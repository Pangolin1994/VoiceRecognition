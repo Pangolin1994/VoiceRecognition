{
 "cells": [
  {
   "cell_type": "code",
   "execution_count": null,
   "metadata": {},
   "outputs": [],
   "source": [
    "# Local imports\n",
    "from main.preprocess import *\n",
    "from main.siamese import *\n",
    "from main.constants import *\n",
    "\n",
    "import os\n",
    "import random\n",
    "import numpy as np\n",
    "import wave\n",
    "import pyaudio\n",
    "import tensorflow as tf\n",
    "import matplotlib.pyplot as plt\n",
    "\n",
    "%matplotlib inline\n",
    "\n",
    "os.environ['TF_CUDNN_DETERMINISM'] = '1'\n",
    "os.environ['TF_DETERMINISTIC_OPS'] = '1'\n",
    "np.random.seed(1)\n",
    "tf.random.set_seed(1)\n",
    "random.seed(1)\n",
    "\n",
    "# For preventing failing during training on gpu\n",
    "gpus = tf.config.list_physical_devices('GPU')\n",
    "tf.config.experimental.set_memory_growth(gpus[0], True)"
   ]
  },
  {
   "cell_type": "code",
   "execution_count": null,
   "metadata": {},
   "outputs": [],
   "source": [
    "%%time\n",
    "df_all, df, labels = get_dataset_frame(\n",
    "    audio_direct, ext, num_speakers\n",
    ")"
   ]
  },
  {
   "cell_type": "code",
   "execution_count": null,
   "metadata": {
    "pycharm": {
     "name": "#%%\n"
    }
   },
   "outputs": [],
   "source": [
    "unverif_samples = 20\n",
    "impost_df = df_all[~df_all['Target'].isin(labels)]\n",
    "imposts = impost_df.sample(unverif_samples, random_state=0)"
   ]
  },
  {
   "cell_type": "code",
   "execution_count": null,
   "metadata": {},
   "outputs": [],
   "source": [
    "verif_samples = 3\n",
    "bound = 2 * triplet_len\n",
    "verif_df = []\n",
    "\n",
    "for label in labels:\n",
    "    samples_df = df[df['Target'] == label].iloc[bound:bound+verif_samples]\n",
    "    verif_df.append(samples_df)\n",
    "    \n",
    "verif_df = pd.concat(verif_df)\n",
    "\n",
    "verif_paths = verif_df['Full_path'].to_numpy()\n",
    "verif_targets = verif_df['Target'].to_numpy()"
   ]
  },
  {
   "cell_type": "code",
   "execution_count": null,
   "metadata": {
    "pycharm": {
     "name": "#%%\n"
    }
   },
   "outputs": [],
   "source": [
    "%%time\n",
    "changed_signals, threshold, _ = truncate_or_pad(\n",
    "    audio_direct, ext, num_speakers, triplet_len, alpha, rate\n",
    ")"
   ]
  },
  {
   "cell_type": "code",
   "execution_count": null,
   "metadata": {
    "pycharm": {
     "name": "#%%\n"
    }
   },
   "outputs": [],
   "source": [
    "def preprocess_samples(path_to_audio, database,\n",
    "                       model, dist_threshold):\n",
    "    wave = load_emphas(path_to_audio, alpha, rate)\n",
    "    wave = clear_from_silence(wave)\n",
    "    changed_wave = np.zeros((threshold,))\n",
    "    if len(wave) > threshold:\n",
    "        changed_wave = wave[:threshold]\n",
    "    else:\n",
    "        changed_wave[:len(wave)] = wave\n",
    "    spec = get_spectrogram(changed_wave, nfft, hop_len,\n",
    "                           win_len, hamming)\n",
    "    spec_features = segment_spectrogram(\n",
    "        spec, num_segments, num_features\n",
    "    )\n",
    "\n",
    "    _input_shape = spec_features.shape[1:]\n",
    "    spec_conv = SpectrogramConvolution(_input_shape)\n",
    "    micro_conv = spec_conv.convolute(spec_features)\n",
    "\n",
    "    min_dist, is_verify, identity = identity_verification(\n",
    "        micro_conv, database, model, dist_threshold\n",
    "    )\n",
    "    return [min_dist, is_verify, identity]"
   ]
  },
  {
   "cell_type": "code",
   "execution_count": null,
   "metadata": {
    "pycharm": {
     "name": "#%%\n"
    }
   },
   "outputs": [],
   "source": [
    "%%time\n",
    "# Preprocess microphone input\n",
    "record_format = pyaudio.paInt16\n",
    "num_channels = 1\n",
    "chunk_size = 1024\n",
    "audio_dur = threshold / rate\n",
    "out_filename = 'test.wav'\n",
    "\n",
    "audio = pyaudio.PyAudio()\n",
    "stream = audio.open(format=record_format, input=True,\n",
    "                rate=rate, channels=num_channels,\n",
    "                frames_per_buffer=chunk_size)\n",
    "frames = []\n",
    "\n",
    "# Record voice\n",
    "for _ in range(int(rate / chunk_size * audio_dur)):\n",
    "    data = stream.read(chunk_size)\n",
    "    frames.append(data)\n",
    "\n",
    "stream.stop_stream()\n",
    "stream.close()\n",
    "audio.terminate()"
   ]
  },
  {
   "cell_type": "code",
   "execution_count": null,
   "metadata": {
    "pycharm": {
     "name": "#%%\n"
    }
   },
   "outputs": [],
   "source": [
    "waveFile = wave.open(out_filename, 'wb')\n",
    "waveFile.setnchannels(num_channels)\n",
    "waveFile.setsampwidth(audio.get_sample_size(record_format))\n",
    "waveFile.setframerate(samples_rate)\n",
    "waveFile.writeframes(b''.join(frames))\n",
    "waveFile.close()"
   ]
  },
  {
   "cell_type": "code",
   "execution_count": null,
   "metadata": {
    "pycharm": {
     "name": "#%%\n"
    }
   },
   "outputs": [],
   "source": [
    "unverif_targets = imposts['Target'].to_list()\n",
    "unverif_targets.append('Me')\n",
    "unverif_paths = imposts['Full_path'].to_list()\n",
    "unverif_paths.append('test.wav')\n",
    "unverif_paths = np.asarray(unverif_paths)\n",
    "unverif_targets = np.asarray(unverif_targets)"
   ]
  },
  {
   "cell_type": "code",
   "execution_count": null,
   "metadata": {
    "pycharm": {
     "name": "#%%\n"
    }
   },
   "outputs": [],
   "source": [
    "%%time\n",
    "history, siam, convs, labels = train_siamese()"
   ]
  },
  {
   "cell_type": "code",
   "execution_count": null,
   "metadata": {
    "pycharm": {
     "name": "#%%\n"
    }
   },
   "outputs": [],
   "source": [
    "database = create_database(convs, labels, siam)"
   ]
  },
  {
   "cell_type": "code",
   "execution_count": null,
   "metadata": {
    "pycharm": {
     "name": "#%%\n"
    }
   },
   "outputs": [],
   "source": [
    "dist_threshold = 0.005\n",
    "\n",
    "unverif_results = np.asarray([preprocess_samples(\n",
    "    path, database, siam, dist_threshold\n",
    ") for path in unverif_paths])"
   ]
  },
  {
   "cell_type": "code",
   "execution_count": null,
   "metadata": {},
   "outputs": [],
   "source": [
    "unverif_results = pd.DataFrame(unverif_results,\n",
    "    columns=['Distance', 'Is_verified', 'Identity'])\n",
    "unverif_results['Target'] = unverif_targets\n",
    "#unverif_results"
   ]
  },
  {
   "cell_type": "code",
   "execution_count": null,
   "metadata": {},
   "outputs": [],
   "source": [
    "incorrect = unverif_results[unverif_results['Is_verified']]\n",
    "accuracy = 1 - len(incorrect) / len(unverif_results)\n",
    "accuracy"
   ]
  },
  {
   "cell_type": "code",
   "execution_count": null,
   "metadata": {
    "pycharm": {
     "name": "#%%\n"
    }
   },
   "outputs": [],
   "source": [
    "verif_results = np.asarray([preprocess_samples(\n",
    "    path, database, siam, dist_threshold\n",
    ") for path in verif_paths])"
   ]
  },
  {
   "cell_type": "code",
   "execution_count": null,
   "metadata": {
    "pycharm": {
     "name": "#%%\n"
    }
   },
   "outputs": [],
   "source": [
    "verif_results = pd.DataFrame(verif_results,\n",
    "    columns=['Distance', 'Is_verified', 'Identity'])\n",
    "verif_results['Target'] = verif_targets\n",
    "#verif_results"
   ]
  },
  {
   "cell_type": "code",
   "execution_count": null,
   "metadata": {
    "pycharm": {
     "name": "#%%\n"
    }
   },
   "outputs": [],
   "source": [
    "correct = verif_results[verif_results['Target'] == verif_results['Identity']]\n",
    "accuracy = len(correct) / len(verif_results)\n",
    "accuracy"
   ]
  },
  {
   "cell_type": "code",
   "execution_count": null,
   "metadata": {},
   "outputs": [],
   "source": [
    "plt.figure(fisize=(10, 8))"
   ]
  }
 ],
 "metadata": {
  "kernelspec": {
   "display_name": "Python 3",
   "language": "python",
   "name": "python3"
  },
  "language_info": {
   "codemirror_mode": {
    "name": "ipython",
    "version": 3
   },
   "file_extension": ".py",
   "mimetype": "text/x-python",
   "name": "python",
   "nbconvert_exporter": "python",
   "pygments_lexer": "ipython3",
   "version": "3.7.4"
  }
 },
 "nbformat": 4,
 "nbformat_minor": 1
}